{
 "cells": [
  {
   "cell_type": "code",
   "execution_count": 2,
   "metadata": {},
   "outputs": [],
   "source": [
    "from ipynb.fs.full.conditionalBrownianBridge import sort_dict,trapezoidal,conditionalBrownianBridge,montecarlo\n",
    "import numpy as np"
   ]
  },
  {
   "cell_type": "code",
   "execution_count": 4,
   "metadata": {},
   "outputs": [],
   "source": [
    "# Dies ist nur eine Beispielfunktion\n",
    "def f(x):\n",
    "    return 4*x**2-8*x+3"
   ]
  },
  {
   "cell_type": "code",
   "execution_count": 5,
   "metadata": {},
   "outputs": [
    {
     "name": "stdout",
     "output_type": "stream",
     "text": [
      "0.008707671690121937\n"
     ]
    },
    {
     "data": {
      "text/plain": [
       "0.008641614706100035"
      ]
     },
     "execution_count": 5,
     "metadata": {},
     "output_type": "execute_result"
    }
   ],
   "source": [
    "#np.random.seed(3245)\n",
    "n = 1000\n",
    "#Datenvektor Y\n",
    "y = np.zeros(n)\n",
    "BM = {\n",
    "    0:0,\n",
    "    1:np.random.normal(0,1)\n",
    "}\n",
    "for i in range(n):\n",
    "        x = np.random.uniform(0,1)\n",
    "        if(len(BM)<n): # damit die Länge gleich ist M=N\n",
    "            BM = conditionalBrownianBridge(x,BM)\n",
    "        y[i] = f(x)\n",
    "# Produkt f(x)*B(x)\n",
    "result = [x * y for x, y in zip(list(y), list(BM.values()))]\n",
    "# Approximation mit MC und Trapeze\n",
    "print(montecarlo(result))\n",
    "trapezoidal(result)"
   ]
  },
  {
   "cell_type": "code",
   "execution_count": 6,
   "metadata": {},
   "outputs": [],
   "source": [
    "# Hilbert Space\n",
    "n = 1000\n",
    "y = np.zeros(n)\n",
    "S = np.zeros(5)\n",
    "for j in range(5):\n",
    "    BM = {\n",
    "        0:0,\n",
    "        1:np.random.normal(0,1)\n",
    "    }\n",
    "    for i in range(n):\n",
    "            x = np.random.uniform(0,1)\n",
    "            if(len(BM)<n):\n",
    "                BM = conditionalBrownianBridge(x,BM)\n",
    "            y[i] = f(x)\n",
    "    result = [x * y for x, y in zip(list(y), list(BM.values()))]\n",
    "    S[j] = montecarlo(result)"
   ]
  },
  {
   "cell_type": "code",
   "execution_count": 7,
   "metadata": {},
   "outputs": [
    {
     "name": "stdout",
     "output_type": "stream",
     "text": [
      "[ 0.20402019 -0.06290513 -0.24537057  0.22584724  0.08382924]\n",
      "0.041084192663814925\n"
     ]
    }
   ],
   "source": [
    "print(S)\n",
    "print(np.average(S))"
   ]
  }
 ],
 "metadata": {
  "kernelspec": {
   "display_name": "Python 3",
   "language": "python",
   "name": "python3"
  },
  "language_info": {
   "codemirror_mode": {
    "name": "ipython",
    "version": 3
   },
   "file_extension": ".py",
   "mimetype": "text/x-python",
   "name": "python",
   "nbconvert_exporter": "python",
   "pygments_lexer": "ipython3",
   "version": "3.8.3"
  }
 },
 "nbformat": 4,
 "nbformat_minor": 4
}
