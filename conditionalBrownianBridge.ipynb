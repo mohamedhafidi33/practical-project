{
 "cells": [
  {
   "cell_type": "code",
   "execution_count": 45,
   "metadata": {},
   "outputs": [],
   "source": [
    "#Author : Mohamed Hafidi\n",
    "def sort_dict(dic):\n",
    "    '''\n",
    "     Sorts a dictionary based on its keys in ascending order.\n",
    "    \n",
    "    Args:\n",
    "        dic (dict): A dictionary to be sorted.\n",
    "    \n",
    "    Returns:\n",
    "        dict: A new dictionary with the same key-value pairs as the original dictionary, sorted by keys in ascending order.\n",
    "    '''\n",
    "    # Get the keys of the dictionary as a list\n",
    "    myKeys = list(dic.keys())\n",
    "    \n",
    "    # Sort the list of keys\n",
    "    myKeys.sort()\n",
    "    \n",
    "    # Create a new dictionary with sorted keys\n",
    "    sorted_dict = {i: dic[i] for i in myKeys}\n",
    "    return sorted_dict"
   ]
  },
  {
   "cell_type": "code",
   "execution_count": 46,
   "metadata": {},
   "outputs": [],
   "source": [
    "import numpy as np\n",
    "def conditionalBrownianBridge(t,dic):\n",
    "    '''\n",
    "    Generates a conditional Brownian bridge at a given time point 't' based on a dictionary of values.\n",
    "    \n",
    "     Args:\n",
    "         t (float): The target time point for generating the bridge.\n",
    "         dic (dict): A dictionary containing key-value pairs representing time points and corresponding values.\n",
    "    \n",
    "     returns:\n",
    "         dict: A sorted dictionary with the original values and the newly generated value at the target time point.\n",
    "    '''\n",
    "    nt = t\n",
    "    list_dic = list(dic)\n",
    "    \n",
    "    # Find the nearest time point 'u' in the dictionary to the target time 't'\n",
    "    u = min(list_dic, key=lambda k: abs(k-t))\n",
    "    \n",
    "    # If 'u' is the first or last time point, adjust 'u' until it is within the range\n",
    "    if (u==1 or u>=nt):\n",
    "        while(u>=nt):\n",
    "            u=list_dic[list_dic.index(u)-1]\n",
    "            \n",
    "    # Get the next time point 't'\n",
    "    t = list_dic[list_dic.index(u) + 1]\n",
    "    \n",
    "    # Calculate the midpoint 's'\n",
    "    s = (t+u)/2\n",
    "    \n",
    "    # Get the values at 'u' and 't'\n",
    "    x = dic[u]\n",
    "    y = dic[t]\n",
    "    \n",
    "    # Generate a random value for the target time point 'nt' using a normal distribution\n",
    "    dic[nt] = np.random.normal(((t-s)*x+(s-u)*y)/(t-u),((s-u)*(t-s))/(t-u))\n",
    "    return sort_dict(dic)\n",
    "\n",
    "# this is a test for \"conditionalBrownianBridge\" function\n",
    "dictionary = {\n",
    "            0:0,\n",
    "            1:np.random.normal(0,1)\n",
    "}\n",
    "\n",
    "\n",
    "#np.random.seed(3245)\n",
    "for i in range(1000):\n",
    "    u = np.random.uniform(0,1)\n",
    "    dictionary = conditionalBrownianBridge(u,dictionary)"
   ]
  },
  {
   "cell_type": "code",
   "execution_count": 47,
   "metadata": {},
   "outputs": [
    {
     "data": {
      "text/plain": [
       "[<matplotlib.lines.Line2D at 0x243f00a46d0>]"
      ]
     },
     "execution_count": 47,
     "metadata": {},
     "output_type": "execute_result"
    },
    {
     "data": {
      "image/png": "[encoded data removed]",
      "text/plain": [
       "<Figure size 432x288 with 1 Axes>"
      ]
     },
     "metadata": {
      "needs_background": "light"
     },
     "output_type": "display_data"
    }
   ],
   "source": [
    "import matplotlib.pyplot as plt\n",
    "x = list(dictionary.keys())\n",
    "y = list(dictionary.values())\n",
    "plt.plot(x,y)"
   ]
  },
  {
   "cell_type": "code",
   "execution_count": 48,
   "metadata": {},
   "outputs": [
    {
     "name": "stdout",
     "output_type": "stream",
     "text": [
      "0.4747066132715092\n",
      "0.4752516583487223\n"
     ]
    }
   ],
   "source": [
    "def trapezoidal(array):\n",
    "    '''\n",
    "    Calculates the numerical integral of an array using the trapezoidal rule.\n",
    "    \n",
    "    Args:\n",
    "        array (list): A list of values representing the function to be integrated.\n",
    "    \n",
    "    Returns:\n",
    "        float: The numerical integral of the array using the trapezoidal rule.\n",
    "    '''\n",
    "    n = len(array)\n",
    "    a = 0\n",
    "    b = 1\n",
    "    h = (b-a)/n\n",
    "    sumval = 0\n",
    "    for i in range(1,n):\n",
    "        sumval = sumval+2*array[i]\n",
    "    sumval = h*(sumval+array[0]+array[-1])/2\n",
    "    return sumval\n",
    "\n",
    "def trapezoidal_inequivalent(x, y):\n",
    "    n = len(x) - 1  # Number of subintervals\n",
    "    integral = 0.0  # Initialize the integral\n",
    "\n",
    "    # Iterate over the subintervals\n",
    "    for i in range(n):\n",
    "        h = x[i+1] - x[i]  # Width of the current subinterval\n",
    "        area = (y[i] + y[i+1]) * (h / 2.0)  # Area of the trapezoid\n",
    "        integral += area  # Add the area to the integral\n",
    "\n",
    "    return integral\n",
    "\n",
    "print(trapezoidal_inequivalent(list(dictionary.keys()),list(dictionary.values())))\n",
    "print(trapezoidal(list(dictionary.values())))"
   ]
  },
  {
   "cell_type": "code",
   "execution_count": 49,
   "metadata": {},
   "outputs": [
    {
     "name": "stdout",
     "output_type": "stream",
     "text": [
      "monteCarlo result = -0.35379190572493463\n",
      "Trapeze result = -0.3540419306685562\n",
      "-0.3486660884593665\n"
     ]
    }
   ],
   "source": [
    "#np.random.seed(3245)\n",
    "def montecarlo(x, y, a, b):\n",
    "    \n",
    "    n = len(x)  # Number of samples\n",
    "    integral_sum = 0.0\n",
    "\n",
    "    for i in range(n):\n",
    "        if x[i] >= a and x[i] <= b:  # Only consider samples within the integration bounds\n",
    "            integral_sum += y[i]\n",
    "\n",
    "    average = integral_sum / n\n",
    "    integral = (b - a) * average\n",
    "    return integral\n",
    "\n",
    "dictionar = {\n",
    "        0:0,\n",
    "        1:np.random.normal(0,1)\n",
    "    }\n",
    "for i in range(1000):\n",
    "        x = np.random.uniform(0,1)\n",
    "        dictionar=conditionalBrownianBridge(x,dictionar)\n",
    "\n",
    "        \n",
    "Mt = montecarlo(list(dictionar.keys()),list(dictionar.values()),0,1)\n",
    "print(\"monteCarlo result = \"+str(Mt))\n",
    "Tr = trapezoidal(list(dictionar.values()))\n",
    "print(\"Trapeze result = \"+str(Tr))\n",
    "print(trapezoidal_inequivalent(list(dictionar.keys()),list(dictionar.values())))"
   ]
  },
  {
   "cell_type": "code",
   "execution_count": 50,
   "metadata": {},
   "outputs": [
    {
     "name": "stdout",
     "output_type": "stream",
     "text": [
      "\n"
     ]
    }
   ],
   "source": [
    "def f(x):\n",
    "    return 4*x**2-3*x+7\n",
    "y = np.zeros(1000)\n",
    "x = np.zeros(1000)\n",
    "dct = {}\n",
    "for i in range(1000):\n",
    "        x[i] = np.random.uniform(0,1)\n",
    "        dct[x[i]] = f(x[i])\n",
    "sorted_dic = sort_dict(dct)\n",
    "x = list(sorted_dic.keys())\n",
    "y = list(sorted_dic.values())"
   ]
  },
  {
   "cell_type": "code",
   "execution_count": 51,
   "metadata": {},
   "outputs": [
    {
     "name": "stdout",
     "output_type": "stream",
     "text": [
      "6.821799842536426\n",
      "6.822296273731921\n",
      "6.821178627409675\n"
     ]
    }
   ],
   "source": [
    "print(montecarlo(x,y,0,1))\n",
    "print(trapezoidal(y))\n",
    "print(trapezoidal_inequivalent(x,y))"
   ]
  }
 ],
 "metadata": {
  "kernelspec": {
   "display_name": "Python 3",
   "language": "python",
   "name": "python3"
  },
  "language_info": {
   "codemirror_mode": {
    "name": "ipython",
    "version": 3
   },
   "file_extension": ".py",
   "mimetype": "text/x-python",
   "name": "python",
   "nbconvert_exporter": "python",
   "pygments_lexer": "ipython3",
   "version": "3.8.3"
  }
 },
 "nbformat": 4,
 "nbformat_minor": 4
}
