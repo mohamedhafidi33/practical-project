{
 "cells": [
  {
   "cell_type": "code",
   "execution_count": 41,
   "metadata": {},
   "outputs": [
    {
     "data": {
      "image/png": "[encoded data removed]",
      "text/plain": [
       "<Figure size 432x288 with 1 Axes>"
      ]
     },
     "metadata": {
      "needs_background": "light"
     },
     "output_type": "display_data"
    },
    {
     "name": "stdout",
     "output_type": "stream",
     "text": [
      "0.3154597116344475\n",
      "0.3185707425400392\n",
      "monteCarlo result = 0.4394899699856507\n",
      "Trapeze result = 0.44003063034720274\n",
      "0.45849962291494123\n",
      "6.8240992301183026\n",
      "6.82459868584804\n",
      "6.830097960551433\n"
     ]
    }
   ],
   "source": [
    "%run conditionalBrownianBridge.ipynb import *"
   ]
  },
  {
   "cell_type": "code",
   "execution_count": 42,
   "metadata": {},
   "outputs": [],
   "source": [
    "import numpy as np\n",
    "def g(x):\n",
    "    return 3*x**3+x**2-8*x+4\n",
    "def f(x):\n",
    "    return 4*x**2-3*x+7"
   ]
  },
  {
   "cell_type": "code",
   "execution_count": 43,
   "metadata": {},
   "outputs": [],
   "source": [
    "def trapezoidal(array):\n",
    "    '''\n",
    "    Calculates the numerical integral of an array using the trapezoidal rule.\n",
    "    \n",
    "    Args:\n",
    "        array (list): A list of values representing the function to be integrated.\n",
    "    \n",
    "    Returns:\n",
    "        float: The numerical integral of the array using the trapezoidal rule.\n",
    "    '''\n",
    "    n = len(array)\n",
    "    a = 0\n",
    "    b = 1\n",
    "    h = (b-a)/n\n",
    "    sumval = 0\n",
    "    for i in range(1,n):\n",
    "        sumval = sumval+2*array[i]\n",
    "    sumval = h*(sumval+array[0]+array[-1])/2\n",
    "    return sumval"
   ]
  },
  {
   "cell_type": "code",
   "execution_count": 44,
   "metadata": {},
   "outputs": [],
   "source": [
    "def trapezoidal_inequivalent(x, y):\n",
    "    n = len(x) - 1  # Number of subintervals\n",
    "    integral = 0.0  # Initialize the integral\n",
    "\n",
    "    # Iterate over the subintervals\n",
    "    for i in range(n):\n",
    "        h = x[i+1] - x[i]  # Width of the current subinterval\n",
    "        area = (y[i] + y[i+1]) * (h / 2.0)  # Area of the trapezoid\n",
    "        integral += area  # Add the area to the integral\n",
    "\n",
    "    return integral"
   ]
  },
  {
   "cell_type": "code",
   "execution_count": 45,
   "metadata": {},
   "outputs": [],
   "source": [
    "def montecarlo(x, y, a, b):\n",
    "    \n",
    "    n = len(x)  # Number of samples\n",
    "    integral_sum = 0.0\n",
    "\n",
    "    for i in range(n):\n",
    "        if x[i] >= a and x[i] <= b:  # Only consider samples within the integration bounds\n",
    "            integral_sum += y[i]\n",
    "\n",
    "    average = integral_sum / n\n",
    "    integral = (b - a) * average\n",
    "    return integral"
   ]
  },
  {
   "cell_type": "code",
   "execution_count": 87,
   "metadata": {},
   "outputs": [
    {
     "name": "stdout",
     "output_type": "stream",
     "text": [
      "6.764404110676021\n",
      "6.750491213798901\n",
      "7.093967065745359\n"
     ]
    }
   ],
   "source": [
    "#np.random.seed(7424)\n",
    "x = np.zeros(1000)\n",
    "dct = {}\n",
    "for i in range(1000):\n",
    "        x[i] = np.random.uniform(0,1)\n",
    "        dct[x[i]] = g(x[i])*f(x[i])\n",
    "        \n",
    "dct = sort_dict(dct)\n",
    "result = list(dct.values())\n",
    "x = list(dct.keys())\n",
    "\n",
    "Mc = montecarlo(x,result,0,1)\n",
    "Tr = trapezoidal(result)\n",
    "Tr2 = trapezoidal_inequivalent(x,result)\n",
    "print(Mc)\n",
    "print(Tr)\n",
    "print(Tr2)"
   ]
  },
  {
   "cell_type": "code",
   "execution_count": 84,
   "metadata": {},
   "outputs": [],
   "source": [
    "def calculate_relative_error(approximation, exact_value):\n",
    "    return abs(approximation - exact_value) / abs(exact_value)"
   ]
  },
  {
   "cell_type": "code",
   "execution_count": 88,
   "metadata": {},
   "outputs": [
    {
     "name": "stdout",
     "output_type": "stream",
     "text": [
      "0.03273074075529128\n",
      "0.034720201650308015\n",
      "0.014394787260000144\n"
     ]
    }
   ],
   "source": [
    "exact_value = 6.9933\n",
    "print(calculate_relative_error(Mc,exact_value))\n",
    "print(calculate_relative_error(Tr,exact_value))\n",
    "print(calculate_relative_error(Tr2,exact_value))"
   ]
  }
 ],
 "metadata": {
  "kernelspec": {
   "display_name": "Python 3",
   "language": "python",
   "name": "python3"
  },
  "language_info": {
   "codemirror_mode": {
    "name": "ipython",
    "version": 3
   },
   "file_extension": ".py",
   "mimetype": "text/x-python",
   "name": "python",
   "nbconvert_exporter": "python",
   "pygments_lexer": "ipython3",
   "version": "3.8.3"
  }
 },
 "nbformat": 4,
 "nbformat_minor": 4
}
