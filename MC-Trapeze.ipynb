{
 "cells": [
  {
   "cell_type": "code",
   "execution_count": 25,
   "metadata": {},
   "outputs": [],
   "source": [
    "import numpy as np\n",
    "def g(x):\n",
    "    return 3*x**3+x**2-8*x+4\n",
    "def f(x):\n",
    "    return 4*x**2-3*x+7"
   ]
  },
  {
   "cell_type": "code",
   "execution_count": 26,
   "metadata": {},
   "outputs": [],
   "source": [
    "def trapezoidal2(x0,xn,n,f):\n",
    "    # calculating step size\n",
    "    h = (xn - x0) / n\n",
    "    \n",
    "    # Finding sum \n",
    "    integration = f(x0) + f(xn)\n",
    "    \n",
    "    for i in range(1,n):\n",
    "        k = x0 + i*h\n",
    "        integration = integration + 2 * f(k)\n",
    "    \n",
    "    # Finding final integration value\n",
    "    integration = integration * h/2\n",
    "    \n",
    "    return integration"
   ]
  },
  {
   "cell_type": "code",
   "execution_count": 27,
   "metadata": {},
   "outputs": [],
   "source": [
    "def MC_Integration(f,a=0,b=1,N=1000):\n",
    "    a = 0\n",
    "    b = 1\n",
    "    N = 1000\n",
    "\n",
    "    ar = np.zeros(N)\n",
    "\n",
    "    for i in range(len(ar)):\n",
    "        ar[i] = np.random.uniform(a, b)\n",
    "\n",
    "\n",
    "    integral = 0.0\n",
    "\n",
    "    for i in ar:\n",
    "        integral += f(i)\n",
    "\n",
    "# we get the answer by the formula derived adobe\n",
    "    ans = (b-a)/float(N)*integral\n",
    "    return ans"
   ]
  },
  {
   "cell_type": "code",
   "execution_count": 35,
   "metadata": {},
   "outputs": [],
   "source": [
    "Mc = MC_Integration(f)\n",
    "Tr = trapezoidal2(0,1,100,f)"
   ]
  },
  {
   "cell_type": "code",
   "execution_count": 36,
   "metadata": {},
   "outputs": [],
   "source": [
    "def calculate_relative_error(approximation, exact_value):\n",
    "    return abs(approximation - exact_value) / abs(exact_value)"
   ]
  },
  {
   "cell_type": "code",
   "execution_count": 37,
   "metadata": {},
   "outputs": [
    {
     "name": "stdout",
     "output_type": "stream",
     "text": [
      "0.0011595550283280136\n",
      "1.4634217727597293e-05\n"
     ]
    }
   ],
   "source": [
    "exact_value = 6.8333\n",
    "print(calculate_relative_error(Mc,exact_value))\n",
    "print(calculate_relative_error(Tr,exact_value))"
   ]
  }
 ],
 "metadata": {
  "kernelspec": {
   "display_name": "Python 3",
   "language": "python",
   "name": "python3"
  },
  "language_info": {
   "codemirror_mode": {
    "name": "ipython",
    "version": 3
   },
   "file_extension": ".py",
   "mimetype": "text/x-python",
   "name": "python",
   "nbconvert_exporter": "python",
   "pygments_lexer": "ipython3",
   "version": "3.8.3"
  }
 },
 "nbformat": 4,
 "nbformat_minor": 4
}
